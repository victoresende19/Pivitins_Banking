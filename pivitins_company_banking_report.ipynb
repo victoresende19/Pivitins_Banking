{
 "cells": [
  {
   "cell_type": "markdown",
   "id": "b7d7e6d5",
   "metadata": {},
   "source": [
    "<a href=\"https://github.com/victoresende19\" rel=\"some text\">![Foo](https://blog.nubank.com.br/wp-content/uploads/2019/03/golpes-cartao-credito.jpg)</a>"
   ]
  },
  {
   "cell_type": "markdown",
   "id": "b0dd0a26",
   "metadata": {},
   "source": [
    "<h2 style=\"text-align:center\">Pivitin's Banking - Fraudes<h2\\>\n",
    "<p style=\"text-align:center;font-size:13px;\"></p>\n",
    "   \n",
    "<h2 style=\"text-align:center\">Victor Augusto Souza Resende<h2\\>\n",
    "<p style=\"text-align:center;font-size:13px;\">Autor</p>\n"
   ]
  },
  {
   "cell_type": "markdown",
   "id": "2af049d3",
   "metadata": {},
   "source": [
    "## Sumário\n",
    "\n",
    "    \n",
    "- [1. Contexto](#1)<br>\n",
    "    * [1.2 Problema - Criteiro de aceite](#12)<br>\n",
    "- [2. Clusterização](#2)<br>\n",
    "    * [2.1. Dendograma](#21)<br>\n",
    "    * [2.2. Normalização dos dados](#22)<br>\n",
    "    * [2.3. PCA - Redução de dimensionalidade ](#23)<br>\n",
    "    * [2.1. HCA](#24)<br>\n",
    "    * [2.1. DBSCAN](#25)<br>\n",
    "- [3. Conclusão](#3)<br>"
   ]
  },
  {
   "cell_type": "markdown",
   "id": "5e7b8e75",
   "metadata": {},
   "source": [
    "### Observação: \n",
    "Para uma melhor visualização, recomenda-se a utilização do software Jupyter Notebook do Anaconda para a visualização. Contém alguns textos em HTML/Markdown que podem não funcionar no Google Colab. "
   ]
  },
  {
   "cell_type": "markdown",
   "id": "45c256b7",
   "metadata": {},
   "source": [
    "## Contexto <a id=\"1\"></a>\n",
    "\n",
    "Um grande banco da América Latina que oferece cartões de crédito aos seu clientes desconfia que venham ocorrendo fraudes em algumas operações.\n",
    "\n",
    "Para verificar isso, ela separou um conjunto de dados suspeitos e quer saber se é possível encontrar algum padrão neles onde é possível identificar operações parecidas entre si para então avaliar se existe de fato, dentro desses subconjuntos de dados, operações fraudulentas. \n",
    "\n",
    "Em resumo, ela contratou a Pivitin's Consulting para efetuar uma separação dos dados para então julgar quais são os casos mais prováveis de serem fraudes e quais os menos prováveis."
   ]
  },
  {
   "cell_type": "markdown",
   "id": "0eb1db60",
   "metadata": {},
   "source": [
    "### Problema - Criteiro de aceite <a id=\"12\"></a>\n",
    "\n",
    "- Conseguir fazer a segmentação dos dados apresentados.\n",
    "- Relatório demonstrando e explicando as análises de maneira clara."
   ]
  },
  {
   "cell_type": "markdown",
   "id": "c8c05dfc",
   "metadata": {},
   "source": [
    "<hr>"
   ]
  },
  {
   "cell_type": "markdown",
   "id": "0bc2d809",
   "metadata": {},
   "source": [
    "## Clusterização <a id=\"2\"></a>"
   ]
  },
  {
   "cell_type": "code",
   "execution_count": 2,
   "id": "ffd22aaa",
   "metadata": {},
   "outputs": [],
   "source": [
    "# manipulacao de dados\n",
    "import pandas as pd\n",
    "import numpy as np\n",
    "\n",
    "# graficos\n",
    "import matplotlib.pyplot as plt\n",
    "\n",
    "# pre processamento\n",
    "from sklearn.preprocessing import StandardScaler\n",
    "from scipy.cluster.hierarchy import dendrogram, linkage\n",
    "from sklearn.decomposition import PCA\n",
    "\n",
    "# clusterizacao\n",
    "from sklearn.cluster import AgglomerativeClustering\n",
    "from sklearn.cluster import DBSCAN"
   ]
  },
  {
   "cell_type": "code",
   "execution_count": 3,
   "id": "70133b32",
   "metadata": {},
   "outputs": [],
   "source": [
    "df = pd.read_csv('fraud_credit_card.csv')"
   ]
  },
  {
   "cell_type": "code",
   "execution_count": 4,
   "id": "007726dd",
   "metadata": {
    "scrolled": false
   },
   "outputs": [
    {
     "data": {
      "text/html": [
       "<div>\n",
       "<style scoped>\n",
       "    .dataframe tbody tr th:only-of-type {\n",
       "        vertical-align: middle;\n",
       "    }\n",
       "\n",
       "    .dataframe tbody tr th {\n",
       "        vertical-align: top;\n",
       "    }\n",
       "\n",
       "    .dataframe thead th {\n",
       "        text-align: right;\n",
       "    }\n",
       "</style>\n",
       "<table border=\"1\" class=\"dataframe\">\n",
       "  <thead>\n",
       "    <tr style=\"text-align: right;\">\n",
       "      <th></th>\n",
       "      <th>CustomerID</th>\n",
       "      <th>A1</th>\n",
       "      <th>A2</th>\n",
       "      <th>A3</th>\n",
       "      <th>A4</th>\n",
       "      <th>A5</th>\n",
       "      <th>A6</th>\n",
       "      <th>A7</th>\n",
       "      <th>A8</th>\n",
       "      <th>A9</th>\n",
       "      <th>A10</th>\n",
       "      <th>A11</th>\n",
       "      <th>A12</th>\n",
       "      <th>A13</th>\n",
       "      <th>A14</th>\n",
       "    </tr>\n",
       "  </thead>\n",
       "  <tbody>\n",
       "    <tr>\n",
       "      <th>0</th>\n",
       "      <td>15776156</td>\n",
       "      <td>0.63</td>\n",
       "      <td>31.14</td>\n",
       "      <td>4.37</td>\n",
       "      <td>1.70</td>\n",
       "      <td>5.30</td>\n",
       "      <td>3.63</td>\n",
       "      <td>1.11</td>\n",
       "      <td>0.29</td>\n",
       "      <td>0.26</td>\n",
       "      <td>0.98</td>\n",
       "      <td>0.34</td>\n",
       "      <td>1.92</td>\n",
       "      <td>143.26</td>\n",
       "      <td>294.28</td>\n",
       "    </tr>\n",
       "    <tr>\n",
       "      <th>1</th>\n",
       "      <td>15739548</td>\n",
       "      <td>0.64</td>\n",
       "      <td>29.74</td>\n",
       "      <td>3.65</td>\n",
       "      <td>1.68</td>\n",
       "      <td>5.21</td>\n",
       "      <td>3.59</td>\n",
       "      <td>0.65</td>\n",
       "      <td>0.22</td>\n",
       "      <td>0.18</td>\n",
       "      <td>0.17</td>\n",
       "      <td>0.34</td>\n",
       "      <td>1.90</td>\n",
       "      <td>159.65</td>\n",
       "      <td>107.46</td>\n",
       "    </tr>\n",
       "    <tr>\n",
       "      <th>2</th>\n",
       "      <td>15662854</td>\n",
       "      <td>0.67</td>\n",
       "      <td>26.40</td>\n",
       "      <td>1.98</td>\n",
       "      <td>1.63</td>\n",
       "      <td>5.52</td>\n",
       "      <td>3.73</td>\n",
       "      <td>-0.21</td>\n",
       "      <td>0.11</td>\n",
       "      <td>0.05</td>\n",
       "      <td>-1.45</td>\n",
       "      <td>0.38</td>\n",
       "      <td>1.86</td>\n",
       "      <td>209.95</td>\n",
       "      <td>-172.97</td>\n",
       "    </tr>\n",
       "    <tr>\n",
       "      <th>3</th>\n",
       "      <td>15687688</td>\n",
       "      <td>0.73</td>\n",
       "      <td>38.60</td>\n",
       "      <td>8.72</td>\n",
       "      <td>2.01</td>\n",
       "      <td>12.00</td>\n",
       "      <td>7.08</td>\n",
       "      <td>6.53</td>\n",
       "      <td>1.31</td>\n",
       "      <td>1.10</td>\n",
       "      <td>8.86</td>\n",
       "      <td>0.68</td>\n",
       "      <td>2.02</td>\n",
       "      <td>195.80</td>\n",
       "      <td>3326.46</td>\n",
       "    </tr>\n",
       "    <tr>\n",
       "      <th>4</th>\n",
       "      <td>15715750</td>\n",
       "      <td>0.76</td>\n",
       "      <td>39.02</td>\n",
       "      <td>9.06</td>\n",
       "      <td>2.05</td>\n",
       "      <td>13.38</td>\n",
       "      <td>7.79</td>\n",
       "      <td>7.32</td>\n",
       "      <td>1.47</td>\n",
       "      <td>1.22</td>\n",
       "      <td>9.88</td>\n",
       "      <td>0.76</td>\n",
       "      <td>2.03</td>\n",
       "      <td>221.08</td>\n",
       "      <td>3825.70</td>\n",
       "    </tr>\n",
       "  </tbody>\n",
       "</table>\n",
       "</div>"
      ],
      "text/plain": [
       "   CustomerID    A1     A2    A3    A4     A5    A6    A7    A8    A9   A10  \\\n",
       "0    15776156  0.63  31.14  4.37  1.70   5.30  3.63  1.11  0.29  0.26  0.98   \n",
       "1    15739548  0.64  29.74  3.65  1.68   5.21  3.59  0.65  0.22  0.18  0.17   \n",
       "2    15662854  0.67  26.40  1.98  1.63   5.52  3.73 -0.21  0.11  0.05 -1.45   \n",
       "3    15687688  0.73  38.60  8.72  2.01  12.00  7.08  6.53  1.31  1.10  8.86   \n",
       "4    15715750  0.76  39.02  9.06  2.05  13.38  7.79  7.32  1.47  1.22  9.88   \n",
       "\n",
       "    A11   A12     A13      A14  \n",
       "0  0.34  1.92  143.26   294.28  \n",
       "1  0.34  1.90  159.65   107.46  \n",
       "2  0.38  1.86  209.95  -172.97  \n",
       "3  0.68  2.02  195.80  3326.46  \n",
       "4  0.76  2.03  221.08  3825.70  "
      ]
     },
     "execution_count": 4,
     "metadata": {},
     "output_type": "execute_result"
    }
   ],
   "source": [
    "df.head()"
   ]
  },
  {
   "cell_type": "code",
   "execution_count": 5,
   "id": "5bd4f0c1",
   "metadata": {},
   "outputs": [],
   "source": [
    "X = df.loc[:, df.columns != 'CustomerID']"
   ]
  },
  {
   "cell_type": "markdown",
   "id": "7db04125",
   "metadata": {},
   "source": [
    "Ao visualizar os dados disponibilizados percebe-se que não há informação sobre as variáveis. Dessa forma, deve-se encontrar quais dessas são as melhores, mesmo não havendo informações sobre tais. Pode-se concluir que trata-se de um problema não supervisionado, de maneira simples, quando não temos uma variável resposta. \n",
    "\n",
    "Portanto, para as análises será utilizado o PCA para a redução de dimensionalidade, isto é, reduzir a quantidade de variáveis de acordo com a transformação linear entre elas. Sendo assim, o principal uso desse algoritmo é reduzir a base de dados, que nesse caso contem variáveis sem nomeação, em um conjunto de dados mais enxuto que consiga responder o problema de negócio análisado."
   ]
  },
  {
   "cell_type": "markdown",
   "id": "817428e2",
   "metadata": {},
   "source": [
    "### Dendograma <a id=\"21\"></a>"
   ]
  },
  {
   "cell_type": "markdown",
   "id": "ef3c506e",
   "metadata": {},
   "source": [
    "A análise de dendograma é válida para verificar a quantidade de cluster que podem existir no conjunto de dados análisados. Dessa forma, deve-se avaliar as retas geradas pelo dendograma e decidir a quantidade de conjuntos que podem existir na base de dados. No exemplo abaixo utilizou-se o método Ward."
   ]
  },
  {
   "cell_type": "code",
   "execution_count": 6,
   "id": "1c430213",
   "metadata": {
    "scrolled": false
   },
   "outputs": [
    {
     "data": {
      "image/png": "[encoded data removed]",
      "text/plain": [
       "<Figure size 1800x720 with 1 Axes>"
      ]
     },
     "metadata": {
      "needs_background": "light"
     },
     "output_type": "display_data"
    }
   ],
   "source": [
    "Z = linkage (X, 'ward')\n",
    "fig = plt.figure(figsize=(25, 10))\n",
    "dn = dendrogram (Z)"
   ]
  },
  {
   "cell_type": "markdown",
   "id": "0d44273d",
   "metadata": {},
   "source": [
    "Avaliando o dendograma, percebe-se que a maior linha vertical (azul) que, se cortada por um eixo horizontal, demonstra que 2 cluster são a quantidade ideal para fazer o agrupamento dos dados."
   ]
  },
  {
   "cell_type": "markdown",
   "id": "ac031efe",
   "metadata": {},
   "source": [
    "### Normalização dos dados <a id=\"22\"></a>"
   ]
  },
  {
   "cell_type": "markdown",
   "id": "86b961ea",
   "metadata": {},
   "source": [
    "Como não foram disponibilizados informações sobre as variáveis, e certamente elas possuem diferentes escalas, decidiu-se normalizar os dados o método do desvio padrão (z-score), do qual cada observação é subtraída pela sua respetiva média e dividida pelo desvio padrão."
   ]
  },
  {
   "cell_type": "code",
   "execution_count": 7,
   "id": "fb00018c",
   "metadata": {},
   "outputs": [],
   "source": [
    "sc = StandardScaler()    \n",
    "X_std = sc.fit_transform(X)"
   ]
  },
  {
   "cell_type": "markdown",
   "id": "05df9c20",
   "metadata": {},
   "source": [
    "### PCA - Redução de dimensionalidade <a id=\"23\"></a>"
   ]
  },
  {
   "cell_type": "markdown",
   "id": "619cdf8a",
   "metadata": {},
   "source": [
    "O PCA é um pouco sensível a variância inicial dos dados, dessa forma variáves com grande range de valores irião \"dominar\" em relação às que possuem um range de valores menor, portanto a normalização dos dados era uma etapa necessária."
   ]
  },
  {
   "cell_type": "code",
   "execution_count": 8,
   "id": "b2bf7a74",
   "metadata": {},
   "outputs": [
    {
     "data": {
      "text/plain": [
       "(690, 2)"
      ]
     },
     "execution_count": 8,
     "metadata": {},
     "output_type": "execute_result"
    }
   ],
   "source": [
    "pca = PCA(n_components = 2)\n",
    "X_pca = pca.fit_transform(X_std)\n",
    "X_pca.shape"
   ]
  },
  {
   "cell_type": "markdown",
   "id": "785d77c7",
   "metadata": {},
   "source": [
    "Verificar a variância explicada é essencial, pois de maneira simplificada, é referente a um valor que informa quão confiável um modelo que descreve um fenômeno observado parece ser."
   ]
  },
  {
   "cell_type": "code",
   "execution_count": 9,
   "id": "3e2af713",
   "metadata": {},
   "outputs": [
    {
     "name": "stdout",
     "output_type": "stream",
     "text": [
      "Variância explicada (PCA = 2): [0.72663309 0.2732134 ]\n"
     ]
    }
   ],
   "source": [
    "print(f'Variância explicada (PCA = 2): {pca.explained_variance_ratio_}')"
   ]
  },
  {
   "cell_type": "code",
   "execution_count": 10,
   "id": "f116453a",
   "metadata": {},
   "outputs": [
    {
     "data": {
      "image/png": "[encoded data removed]",
      "text/plain": [
       "<Figure size 432x288 with 1 Axes>"
      ]
     },
     "metadata": {
      "needs_background": "light"
     },
     "output_type": "display_data"
    }
   ],
   "source": [
    "plt.scatter(X_pca[:, 0], X_pca[:, 1], s = 100, c = 'orange')\n",
    "plt.title('Distribuição pós PCA')\n",
    "plt.xlabel('PCA var 1')\n",
    "plt.ylabel('PCA var 2')\n",
    "plt.show()"
   ]
  },
  {
   "cell_type": "markdown",
   "id": "84d86085",
   "metadata": {},
   "source": [
    "Ao aplicar a técnica de redução de dimensionalidade PCA igual a 2, resultado da avaliação do dendograma, verificou-se a distribuição dos dados em um gráfico de dispersão como demonstrado acima."
   ]
  },
  {
   "cell_type": "markdown",
   "id": "1dd99be3",
   "metadata": {},
   "source": [
    "### HCA <a id=\"24\"></a>"
   ]
  },
  {
   "cell_type": "markdown",
   "id": "0d080028",
   "metadata": {},
   "source": [
    "O algoritmo de clusterização HCA, ou Hierarchical Clustering Analysis, possui como vantagens traçar dendrogramas (visualizações de um agrupamento hierárquico binário), o que pode ajudar na interpretação dos resultados. Outra vantagem útil desta abordagem hierárquica é que não precisamos especificar o número de clusters antecipadamente, do qual avalia-se via dendograma.\n",
    "\n",
    "Parâmetros: \n",
    "- n_clusters: Número de cluster a se encontrar\n",
    "- affinity (distância euclidiana): Métrica para computar o tipo de linkage.\n",
    "- linkage (complete): O critério de ligação determina qual distância usar entre conjuntos de observação. Complete linkage leva em consideração os pontos mais distante entre os dados para fazer o cluster."
   ]
  },
  {
   "cell_type": "code",
   "execution_count": 11,
   "id": "f92de5c9",
   "metadata": {},
   "outputs": [],
   "source": [
    "hc = AgglomerativeClustering(n_clusters = 2, affinity='euclidean', linkage='complete')\n",
    "y_hc = hc.fit_predict(X_pca)"
   ]
  },
  {
   "cell_type": "code",
   "execution_count": 12,
   "id": "956af3d9",
   "metadata": {
    "scrolled": true
   },
   "outputs": [
    {
     "data": {
      "image/png": "[encoded data removed]",
      "text/plain": [
       "<Figure size 432x288 with 1 Axes>"
      ]
     },
     "metadata": {
      "needs_background": "light"
     },
     "output_type": "display_data"
    }
   ],
   "source": [
    "plt.scatter(X_pca[y_hc == 0, 0], X_pca[y_hc == 0, 1], s = 100, c = 'red', label = 'Cluster 1')\n",
    "plt.scatter(X_pca[y_hc == 1, 0], X_pca[y_hc == 1, 1], s = 100, c = 'blue', label = 'Cluster 2')\n",
    "\n",
    "plt.title('Separação dos clusters - HCA')\n",
    "plt.xlabel('PCA var 1')\n",
    "plt.ylabel('PCA var 2')\n",
    "\n",
    "plt.legend()\n",
    "plt.show()"
   ]
  },
  {
   "cell_type": "markdown",
   "id": "f01098b8",
   "metadata": {},
   "source": [
    "### DBSCAN <a id=\"25\"></a>"
   ]
  },
  {
   "cell_type": "markdown",
   "id": "c51dd884",
   "metadata": {},
   "source": [
    "O DBSCAN, ou Espacial Baseado em Densidade de Aplicações com Ruído, é um algoritmo de clusterização que não faz\n",
    "suposições de clusters esféricos como k-means, nem particiona o conjunto de dados em hierarquias que requerem um ponto de corte manual. Como o próprio nome indica, clusterização baseada em densidade atribui rótulos de cluster com base em regiões densas de pontos. No DBSCAN, a noção de densidade é definida como o número de pontos dentro de um\n",
    "raio especificado ε.\n",
    "\n",
    "Parâmetros:\n",
    "- eps: A distância máxima entre duas amostras para que uma seja considerada na vizinhança da outra.\n",
    "- min_samples: O número de amostras (ou peso total) em uma vizinhança para que um ponto seja considerado como um ponto central."
   ]
  },
  {
   "cell_type": "code",
   "execution_count": 31,
   "id": "4ad74e89",
   "metadata": {},
   "outputs": [],
   "source": [
    "db = DBSCAN(eps = 0.5, min_samples = 10, metric = 'euclidean') \n",
    "y_db = db.fit_predict(X_pca)"
   ]
  },
  {
   "cell_type": "code",
   "execution_count": 32,
   "id": "c1bf7232",
   "metadata": {
    "scrolled": true
   },
   "outputs": [
    {
     "data": {
      "image/png": "[encoded data removed]",
      "text/plain": [
       "<Figure size 432x288 with 1 Axes>"
      ]
     },
     "metadata": {
      "needs_background": "light"
     },
     "output_type": "display_data"
    }
   ],
   "source": [
    "plt.scatter(X_pca[y_db == 0, 0], X_pca[y_db == 0, 1], s = 100, c = 'red', label = 'Cluster 1')\n",
    "plt.scatter(X_pca[y_db == 1, 0], X_pca[y_db == 1, 1], s = 100, c = 'blue', label = 'Cluster 2')\n",
    "\n",
    "plt.title('Separação dos clusters - DBSCAN')\n",
    "plt.xlabel('PCA var 1')\n",
    "plt.ylabel('PCA var 2')\n",
    "\n",
    "plt.legend()\n",
    "plt.show()"
   ]
  },
  {
   "cell_type": "markdown",
   "id": "ca3f17ff",
   "metadata": {},
   "source": [
    "## Conclusão <a id=\"3\"></a>"
   ]
  },
  {
   "cell_type": "markdown",
   "id": "bf79dabe",
   "metadata": {},
   "source": [
    "Portanto, foram testados alguns métodos de clusterização, o HCA e DBSCAN. Ao avaliar a separação sugerida pelo algoritmo HCA, percebe-se os dados de maneira bastante agrupada ainda, o que talvez possa prejudicar o banco a identificar fraudes. Já em relação ao algoritmo de cluster DBSCAN, percebeu-se uma boa separação dos dados, tornando evidentes dois grupos majoritários. \n",
    "\n",
    "\n",
    "Então, se concluí que o algoritmo de **DBSCAN** possui um resultado na entrega de valor superior caso comparado com o algoritmo HCA, ambos para a segmentação das fraudes citadas anteriormente. Dessa forma, o DBSCAN apresenta uma melhor separação dos dados do qual tornará mais simplória a análise feita por parte do banco a fim de identificar transações fraudulentas."
   ]
  },
  {
   "cell_type": "markdown",
   "id": "32afe088",
   "metadata": {},
   "source": [
    "<hr>"
   ]
  },
  {
   "cell_type": "markdown",
   "id": "112d4100",
   "metadata": {},
   "source": [
    "@Pivitin's Company™ <br>\n",
    "Maio, 2022"
   ]
  }
 ],
 "metadata": {
  "kernelspec": {
   "display_name": "Python 3 (ipykernel)",
   "language": "python",
   "name": "python3"
  },
  "language_info": {
   "codemirror_mode": {
    "name": "ipython",
    "version": 3
   },
   "file_extension": ".py",
   "mimetype": "text/x-python",
   "name": "python",
   "nbconvert_exporter": "python",
   "pygments_lexer": "ipython3",
   "version": "3.9.7"
  }
 },
 "nbformat": 4,
 "nbformat_minor": 5
}
